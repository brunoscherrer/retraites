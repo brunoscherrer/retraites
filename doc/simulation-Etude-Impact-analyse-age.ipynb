{
 "cells": [
  {
   "cell_type": "markdown",
   "metadata": {},
   "source": [
    "# Analyse de la trajectoire de l'âge de départ dans l'étude d'impact\n",
    "\n",
    "Le but de cette simulation est d'analyser la trajectoire de l'âge de départ en retraite dans l'étude d'impact. On observe une discontinuité par rapport au COR, que l'on analyse en détail."
   ]
  },
  {
   "cell_type": "code",
   "execution_count": 1,
   "metadata": {},
   "outputs": [],
   "source": [
    "from retraites.SimulateurRetraites import SimulateurRetraites\n",
    "from retraites.EtudeImpact import EtudeImpact\n",
    "import pylab as pl\n",
    "from scipy import interpolate\n",
    "import numpy as np"
   ]
  },
  {
   "cell_type": "code",
   "execution_count": 2,
   "metadata": {
    "scrolled": false
   },
   "outputs": [],
   "source": [
    "simulateur = SimulateurRetraites('../retraites/fileProjection.json')"
   ]
  },
  {
   "cell_type": "code",
   "execution_count": 3,
   "metadata": {},
   "outputs": [],
   "source": [
    "etudeImpact = EtudeImpact(simulateur)\n",
    "analyse_etudeImpact = etudeImpact.calcule()"
   ]
  },
  {
   "cell_type": "code",
   "execution_count": 4,
   "metadata": {},
   "outputs": [],
   "source": [
    "analyse_COR = simulateur.pilotageCOR()"
   ]
  },
  {
   "cell_type": "code",
   "execution_count": 5,
   "metadata": {},
   "outputs": [],
   "source": [
    "scenario_central = 3 # Scénario central : Hausse = +1.3% PIB\n",
    "scenarios = [scenario_central] # Scénario central : Hausse = +1.3% PIB"
   ]
  },
  {
   "cell_type": "code",
   "execution_count": 6,
   "metadata": {},
   "outputs": [
    {
     "data": {
      "image/png": "[encoded data removed]",
      "text/plain": [
       "<Figure size 432x288 with 1 Axes>"
      ]
     },
     "metadata": {
      "needs_background": "light"
     },
     "output_type": "display_data"
    }
   ],
   "source": [
    "analyse_COR = simulateur.pilotageCOR()\n",
    "analyse_COR.graphique(\"A\", dessine_legende= False, scenarios_indices = scenarios)\n",
    "analyse_etudeImpact.graphique(\"A\", dessine_legende= False, scenarios_indices = scenarios)\n",
    "pl.legend([\"COR\",\"Après réforme\"])\n",
    "pl.grid(axis=\"y\")\n",
    "pl.savefig(\"Article4/Simulation-Age-vs-COR.pdf\")\n",
    "pl.savefig(\"Article4/Simulation-Age-vs-COR.png\")"
   ]
  },
  {
   "cell_type": "markdown",
   "metadata": {},
   "source": [
    "On observe une discontinuité en 2038."
   ]
  },
  {
   "cell_type": "code",
   "execution_count": 7,
   "metadata": {},
   "outputs": [
    {
     "name": "stdout",
     "output_type": "stream",
     "text": [
      "2037\n",
      "  COR  63.69\n",
      "  EI 63.69\n",
      "2038\n",
      "  COR  63.78\n",
      "  EI 63.56\n",
      "2039\n",
      "  COR  63.85\n",
      "  EI 63.62\n"
     ]
    }
   ],
   "source": [
    "for a in range(etudeImpact.age_annee_transition - 1, etudeImpact.age_annee_transition + 2):\n",
    "    print(a)\n",
    "    print(\"  COR % .2f\" % (analyse_COR.A[scenario_central][a]))\n",
    "    print(\"  EI% .2f\" % (analyse_etudeImpact.A[scenario_central][a]))"
   ]
  },
  {
   "cell_type": "markdown",
   "metadata": {},
   "source": [
    "On observe que l'âge est identique jusqu'en 2037. Puis en 2038 on obtient 63.78 pour le COR et 63.56 dans l'étude d'impact."
   ]
  },
  {
   "cell_type": "markdown",
   "metadata": {},
   "source": [
    "L'année de transition 2038 correspond à une année entre les génération 1974 et 1975. "
   ]
  },
  {
   "cell_type": "code",
   "execution_count": 8,
   "metadata": {},
   "outputs": [
    {
     "data": {
      "text/plain": [
       "2038"
      ]
     },
     "execution_count": 8,
     "metadata": {},
     "output_type": "execute_result"
    }
   ],
   "source": [
    "a = etudeImpact.age_annee_transition \n",
    "a"
   ]
  },
  {
   "cell_type": "code",
   "execution_count": 9,
   "metadata": {},
   "outputs": [
    {
     "data": {
      "text/plain": [
       "1974.436090225564"
      ]
     },
     "execution_count": 9,
     "metadata": {},
     "output_type": "execute_result"
    }
   ],
   "source": [
    "a - analyse_etudeImpact.A[scenario_central][a]"
   ]
  },
  {
   "cell_type": "markdown",
   "metadata": {},
   "source": [
    "## Calcul de l'âge en 2038 qui assure la continuité"
   ]
  },
  {
   "cell_type": "markdown",
   "metadata": {},
   "source": [
    "On recherche l'âge de départ en 2038 qui rendrait continue la courbe de l'âge."
   ]
  },
  {
   "cell_type": "code",
   "execution_count": 10,
   "metadata": {},
   "outputs": [],
   "source": [
    "def residualFunction(age_premiere_generation):\n",
    "    etudeImpact.age_premiere_generation = age_premiere_generation\n",
    "    diffAge = etudeImpact.ageDepartParAnnee(2038) - analyse_COR.A[scenario_central][2038]\n",
    "    return diffAge"
   ]
  },
  {
   "cell_type": "code",
   "execution_count": 11,
   "metadata": {},
   "outputs": [
    {
     "data": {
      "text/plain": [
       "-0.5006447570780708"
      ]
     },
     "execution_count": 11,
     "metadata": {},
     "output_type": "execute_result"
    }
   ],
   "source": [
    "residualFunction(63.3)"
   ]
  },
  {
   "cell_type": "code",
   "execution_count": 16,
   "metadata": {},
   "outputs": [
    {
     "data": {
      "text/plain": [
       "0.6796888028716026"
      ]
     },
     "execution_count": 16,
     "metadata": {},
     "output_type": "execute_result"
    }
   ],
   "source": [
    "residualFunction(64.5)"
   ]
  },
  {
   "cell_type": "code",
   "execution_count": 13,
   "metadata": {},
   "outputs": [],
   "source": [
    "import scipy.optimize as sco"
   ]
  },
  {
   "cell_type": "code",
   "execution_count": 17,
   "metadata": {},
   "outputs": [
    {
     "data": {
      "text/plain": [
       "63.82240607408808"
      ]
     },
     "execution_count": 17,
     "metadata": {},
     "output_type": "execute_result"
    }
   ],
   "source": [
    "sco.toms748(residualFunction, 63.3, 64.5)"
   ]
  },
  {
   "cell_type": "markdown",
   "metadata": {},
   "source": [
    "Ainsi un âge de départ à la retraite égal à 63.8 ans en 2038 rendrait continue la trajectoire d'âge."
   ]
  },
  {
   "cell_type": "markdown",
   "metadata": {},
   "source": [
    "## Conclusion\n",
    "\n",
    "La trajectoire de l'âge de départ en retraite est discontinue car l'âge prévu par le COR en 2038 n'est pas égal à celui que nous avons inféré depuis le graphique 73. Dans l'étude d'impact, nous avons utilisé un âge de départ à la retraite égal à 63.6 alors qu'un âge permettant d'assurer la continuité serait égal à 63.8. \n",
    "\n",
    "Nous avons calculé l'âge de départ en retraite moyen pour l'ensemble des retraités partant en retraite en 2038 en fonction seulement de l'âge de départ en retraite de la génération 1975. Notre calcul n'est donc qu'une approximation, puisque les personnes partant en retraite en 2038 ne sont pas toutes de la génération 1975. L'étude d'impact ne donnant pas d'information sur l'âge moyen de départ en retraite en 2038, il ne semble pas facile de faire un calcul plus précis. "
   ]
  }
 ],
 "metadata": {
  "kernelspec": {
   "display_name": "Python 3",
   "language": "python",
   "name": "python3"
  },
  "language_info": {
   "codemirror_mode": {
    "name": "ipython",
    "version": 3
   },
   "file_extension": ".py",
   "mimetype": "text/x-python",
   "name": "python",
   "nbconvert_exporter": "python",
   "pygments_lexer": "ipython3",
   "version": "3.7.4"
  }
 },
 "nbformat": 4,
 "nbformat_minor": 2
}
