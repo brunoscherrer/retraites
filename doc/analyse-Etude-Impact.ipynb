{
 "cells": [
  {
   "cell_type": "markdown",
   "metadata": {},
   "source": [
    "# Analyse de l'étude d'impact\n",
    "\n",
    "Références : \n",
    "* *Projet de loi instituant un système universel de retraite.* - Etude d'impact, 24 janvier 2020\n",
    "* *Évolutions et perspectives des retraites en France.* Rapport annuel du COR – Juin 2019"
   ]
  },
  {
   "cell_type": "markdown",
   "metadata": {},
   "source": [
    "## Analyse de l'étude d'impact : dépenses de retraites\n",
    "\n",
    "Le rapport du COR de Juin 2019 présente les dépenses de retraites jusqu'en 2070. \n",
    "\n",
    "![Dépenses constatées et projetées du système de retraite actuel](Figures-COR/COR-Juin-2019-Depenses.png \"Dépenses de retraite (COR, Juin 2019)\")\n",
    "\n",
    "Le rapport du COR de Novembre 2019 présente les dépenses de retraites jusqu'à 2030, compte tenu des mesures de restriction des ressources exigées par le gouvernement. \n",
    "\n",
    "![Dépenses constatées et projetées du système de retraite actuel](Figures-COR/COR-Novembre-2019-Depenses.png \"Dépenses de retraite (COR, Novembre 2019)\")\n",
    "\n",
    "L'étude d'impact, page 174, présente une analyse du niveau de dépenses en % de PIB : \"Ce taux est plus élevé que ce qu’on observe dans les autres pays européens. Les prestations de vieillesse-survie (correspondant au champ comparable internationalement, plus large que les dépenses du seul système de retraite) représentent 14,4 % du PIB en France, contre 12,6 % du PIB dans l’UE-15 et 12,3 % dans l’UE-28.\"\n",
    "\n",
    "Dans l'étude d'impact, page 174, le graphique 58 présente les dépenses constatées et projetées du système de retraite actuel, en points de PIB. \n",
    "\n",
    "![Dépenses constatées et projetées du système de retraite actuel](Figures-Etude-Impact/EtudeImpact-Graphique-58-depenses-constatees-projetees.png \"Dépenses constatées et projetées du système de retraite actuel (Etude d'impact, Janvier 2020\")\n",
    "\n",
    "Analysons cette trajectoire de dépenses par comparaison avec celles du COR.\n",
    "* Ces dépenses correspondent à celle du COR de Novembre 2019, comme c'est précisé dans l'étude d'impact. \n",
    "* Cette trajectoire ne correspond pas à la trajectoire à 1.3% dans le rapport du COR de Juin 2019. En effet, l'étude d'impact évoque la trajectoire de dépenses du rapport du COR de Novembre 2019 (et pas Juin 2019) à +1.3% de hausse des salaires et un taux de chômage de 7%. Or ce scénario mène à un niveau de dépenses de 13.5% en 2050 dans le rapport du COR de Juin 2019, alors que l'étude d'impact est proche de 13%.\n",
    "* Ces dépenses correspondent approximativement à la trajectoire à +1.5% du rapport de Juin 2019 jusqu'à 2050. \n",
    "\n",
    "Dans le tableau 39 de l'étude d'impact, page 176, nous observons les valeurs numériques de la trajectoire de dépenses du SUR. \n",
    "\n",
    "![Effet de la réforme sur les dépenses de prestations à horizon 2050](Figures-Etude-Impact/EtudeImpact-Tableau-39-Depenses-SUR.png \"Effet de la réforme sur les dépenses de prestations à horizon 2050 (Etude d'impact, Janvier 2020\")\n",
    "\n",
    "C'est pourquoi nous considérons les valeurs suivantes de dépenses dans l'étude d'impact.\n",
    "\n",
    "| *Année*  |  *Dépenses* (%PIB) | *Source* |\n",
    "|---|---|---|\n",
    "| 2025 | 13.6% | Etude d'impact |\n",
    "| 2030 | 13.5% | Etude d'impact |\n",
    "| 2040 | 13.3% | Etude d'impact |\n",
    "| 2050 | 12.9% | Etude d'impact |\n",
    "| 2060 | 12.75% | Vers moyenne UE-15 |\n",
    "| 2070 | 12.6%  | Moyenne UE-15 |\n",
    "\n"
   ]
  },
  {
   "cell_type": "markdown",
   "metadata": {},
   "source": [
    "## Analyse de l'étude d'impact : situation financière\n",
    "\n",
    "La figure suivante présente le solde financier du système de retraite extrait du rapport du COR en Juin 2019.\n",
    "\n",
    "![Solde du système de retraite (Convention COR)](Figures-COR/COR-Juin-2019-Solde-Financier.png \"Solde du système de retraite (COR, Juin 2019\")\n",
    "\n",
    "Le graphique 63 de l'étude d'impact, page 180, présente une analyse du solde financier du système de retraite avant et après réforme. \n",
    "\n",
    "![Solde du système de retraite, avant et après réforme](Figures-Etude-Impact/EtudeImpact-Graphique-63-situation-financiere.png \"Solde du système de retraite, avant et après réforme (Etude d'impact, Janvier 2020)\")\n",
    "\n",
    "Le texte indique : \"Compte tenu des hypothèses décrites plus haut et en y ajoutant une mesure conventionnelle de\n",
    "redressement à court terme afin d’être à l’équilibre en 2027, le graphique ci-après présente la trajectoire du solde du SUR en la comparant à la trajectoire contrefactuelle (hors réforme) à l’horizon 2050.\"\n",
    "\n",
    "C'est pourquoi nous devons considérer un solde financier :\n",
    "* inchangé avant 2020,\n",
    "* linéairement croissant de -0.2 en 2020 jusqu'à 0 en 2027,\n",
    "* puis nul ensuite."
   ]
  },
  {
   "cell_type": "markdown",
   "metadata": {},
   "source": [
    "## Analyse de l'étude d'impact : âge de départ à la retraite"
   ]
  },
  {
   "cell_type": "markdown",
   "metadata": {},
   "source": [
    "Le graphique suivant présent l'âge de départ à la retraite dans le scénario du COR de Juin 2019.\n",
    "\n",
    "![Age de départ à la retraite (COR, Juin 2019)](Figures-COR/COR-Juin-2019-Age-depart-retraite.png \"Age de départ à la retraite (COR, Juin 2019)\")\n",
    "\n",
    "Le texte de l'étude du COR indique : \"La baisse du rapport entre le nombre de cotisants et le nombre de retraités, liée au vieillissement, serait atténuée par la hausse de l’âge moyen de départ à la retraite.\"\n",
    "\n",
    "Le graphique 49 page 139 de l'étude d'impact de Janvier 2020 est présenté ci-dessous. \n",
    "\n",
    "![Age de départ à la retraite (Etude d'impact, Janvier 2020)](Figures-Etude-Impact/EtudeImpact-Graphique-49-AgeDepartRetraite.png \"Age de départ à la retraite (Etude d'impact, Janvier 2020)\")\n",
    "\n",
    "Le texte précise : \"Au total, en tenant compte de l’ensemble de ces décalages, l’âge moyen de départ serait plus élevé dans le système universel : 64 ans et 5 mois contre 64 ans et 10 mois environ dans le système actuel pour la génération 1990.\"\n",
    "\n",
    "Page 199, le graphique 73 présente l'âge moyen à la liquidation par génération. \n",
    "\n",
    "![Age moyen à la liquidation par génération (Etude d'impact, Janvier 2020)](Figures-Etude-Impact/EtudeImpact-Graphique-73-AgeDepartRetraite.png \"Age moyen à la liquidation par génération (Etude d'impact, Janvier 2020)\")\n",
    "\n",
    "Le texte sous le graphique 73 précise : \"La hausse de l’âge moyen de liquidation permet d’augmenter significativement les pensions\n",
    "versées : la prise en compte des comportements augmente ainsi la pension moyenne de 5 % pour la génération 1990.\"\n",
    "\n",
    "Il n'est pas facile de comparer l'âge de départ à la retraite dans les graphiques du COR et de l'étude d'impact car le graphique du COR indique l'année de départ à la retraite tandis que l'étude d'impact indique l'année de naissance. \n",
    "\n",
    "C'est pourquoi nous considérons les valeurs suivantes d'âge de départ à la retraite dans l'étude d'impact.\n",
    "\n",
    "| *Année de naissance* | *Age de départ* |\n",
    "|---|---|\n",
    "| 1975 | 63.8 |\n",
    "| 2000 | 65.25 |\n",
    "\n",
    "Remarquons que la projection des âges est réalisée jusqu'en 2065 puisque 2000+65.25=2065.25. "
   ]
  },
  {
   "cell_type": "code",
   "execution_count": null,
   "metadata": {},
   "outputs": [],
   "source": []
  }
 ],
 "metadata": {
  "kernelspec": {
   "display_name": "Python 3",
   "language": "python",
   "name": "python3"
  },
  "language_info": {
   "codemirror_mode": {
    "name": "ipython",
    "version": 3
   },
   "file_extension": ".py",
   "mimetype": "text/x-python",
   "name": "python",
   "nbconvert_exporter": "python",
   "pygments_lexer": "ipython3",
   "version": "3.7.4"
  }
 },
 "nbformat": 4,
 "nbformat_minor": 2
}
