{
 "cells": [
  {
   "cell_type": "markdown",
   "metadata": {},
   "source": [
    "# Propagation des incertitudes"
   ]
  },
  {
   "cell_type": "markdown",
   "metadata": {},
   "source": [
    "## Description du modèle mathématique\n",
    "\n",
    "La stratégie de pilotage utilisée par le modèle mathématique impose :\n",
    "* le bilan financier $S_s$,\n",
    "* l'âge de départ à la retraite $A_s$, \n",
    "* un niveau de dépenses $D_s$.\n",
    "\n",
    "Les résultats de ce calcul sont le montant des pensions par rapport aux actifs $P_s$ et le taux de cotisations $T_s$.\n",
    "\n",
    "Le taux de cotisations est :\n",
    "\n",
    "$$\n",
    "T_s = \\frac{S_s + D_s}{B}.\n",
    "$$\n",
    "\n",
    "Le niveau des pensions est :\n",
    "\n",
    "$$\n",
    "P_s = \\frac{T_s-S_s/B}{K}-dP\n",
    "$$\n",
    "\n",
    "où\n",
    "  \n",
    "\\begin{align}\n",
    "g & = G (A_s-A), \\\\\n",
    "K & = \\frac{N_R-g}{N_C + F g},\n",
    "\\end{align}\n",
    "\n",
    "où $F = 0.5$ est le facteur d'élasticité de report de l'âge de retraite.\n",
    "\n",
    "Soit $\\tau_c$ le taux de chômage. Le nombre de cotisants $N_C$ et les autres dépenses de retraite $dP$ dépendent du taux de chômage :\n",
    "\n",
    "$$\n",
    "N_C = N_C(\\tau_c), \\qquad \n",
    "dP = dP(\\tau_c).\n",
    "$$\n",
    "\n",
    "Le vecteur des entrées est :\n",
    "\n",
    "$$\n",
    "X = (S_s, D_s, A_s, B, G, A, N_R, \\tau_c, E)\n",
    "$$\n",
    "\n",
    "La sortie du modèle est le vecteur :\n",
    "\n",
    "$$\n",
    "Y = (P_s)\n",
    "$$"
   ]
  },
  {
   "cell_type": "markdown",
   "metadata": {},
   "source": [
    "## Le facteur d'élasticité de report de l'âge de départ en retraite\n",
    "\n",
    "\n",
    "D'après la documentation technique du COR : \"si l’utilisateur renseigne un âge effectif moyen de départ à la retraite plus élevé que celui qui découle de l’évolution spontanée à législation inchangée (c’est-à-dire si $A_s > A$), le nombre de retraités est donc diminué de $G (A_s - A)$ et le nombre de cotisants augmenté de $F G (A_s - A)$.\" \n",
    "\n",
    "De plus : \"Le facteur F est choisi conventionnellement pour tenir compte du fait qu’une partie des nouveaux retraités ne sont plus en emploi au moment où ils liquident leurs droits à la retraite. Un report de l’âge effectif de départ à la retraite n’implique donc pas pour tous les assurés un report de même ampleur de l’âge de fin d’emploi.\" \n",
    "\n",
    "Le modèle du COR utilise la valeur $F=0.5$. La documentation technique évalue la sensibilité du modèle pour des valeurs entre 0.25 et 0.75 et c'est pourquoi nous avons retenu ces bornes dans notre étude. "
   ]
  },
  {
   "cell_type": "markdown",
   "metadata": {},
   "source": [
    "## Description du modèle probabiliste\n",
    "\n",
    "Nous souhaitons probabiliser les variables suivantes :\n",
    "* $A_s$ : l'âge de départ à la retraite de l'utilisateur\n",
    "* $F$ : coefficient d'élasticité (par défaut, $F = 0.5$)\n",
    "* $\\tau_c$ : le taux de chômage\n",
    "\n",
    "Les distributions marginales de ces variables sont présentées dans la table suivante.\n",
    "\n",
    "| Variable | Distribution |\n",
    "|---|---|\n",
    "| $A_s$ | Uniforme(62, 64) |\n",
    "| F | Uniforme(0.25, 0.75) |\n",
    "| $\\tau_c$ | Uniforme(4.5, 10) |\n",
    "\n",
    "Ces trois variables sont indépendantes. \n"
   ]
  },
  {
   "cell_type": "markdown",
   "metadata": {},
   "source": [
    "## Modèle du taux de chômage\n",
    "\n",
    "On fait l'hypothèse que le taux de chômage influence linéairement $N_C$ et $dP$. \n",
    "\n",
    "On considère deux taux de chômage $\\tau_{c1}$ et $\\tau_{c2}$. \n",
    "Supposons que $N_{C1}$ et $dP_1$ (resp. $N_{C2}$  et $dP_2$) sont le nombre de cotisants et les autres dépenses de retraites correspondant à $\\tau_{c1}$ (resp. $\\tau_{c2}$). \n",
    "\n",
    "Alors, le modèle est :\n",
    "\n",
    "$$\n",
    "N_C(\\tau_c) = \\frac{\\tau_{c2} - \\tau_c}{\\tau_{c2} - \\tau_{c1}} N_{C1} + \\frac{\\tau_c - \\tau_{c1}}{\\tau_{c2} - \\tau_{c1}} N_{C2}\n",
    "$$\n",
    "\n",
    "et :\n",
    "\n",
    "$$\n",
    "dP(\\tau_c) = \\frac{\\tau_{c2} - \\tau_c}{\\tau_{c2} - \\tau_{c1}} dP_1 + \\frac{\\tau_c - \\tau_{c1}}{\\tau_{c2} - \\tau_{c1}} dP_2\n",
    "$$\n",
    "\n",
    "pour tout $\\tau_c\\in[0,1]$. "
   ]
  }
 ],
 "metadata": {
  "kernelspec": {
   "display_name": "Python 3",
   "language": "python",
   "name": "python3"
  },
  "language_info": {
   "codemirror_mode": {
    "name": "ipython",
    "version": 3
   },
   "file_extension": ".py",
   "mimetype": "text/x-python",
   "name": "python",
   "nbconvert_exporter": "python",
   "pygments_lexer": "ipython3",
   "version": "3.7.4"
  }
 },
 "nbformat": 4,
 "nbformat_minor": 2
}
