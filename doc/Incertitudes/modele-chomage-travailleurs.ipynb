{
 "cells": [
  {
   "cell_type": "markdown",
   "metadata": {},
   "source": [
    "# Modèle de nombre de cotisants en fonction du taux de chômage par nombre de travailleurs"
   ]
  },
  {
   "cell_type": "code",
   "execution_count": 1,
   "metadata": {},
   "outputs": [],
   "source": [
    "from retraites.SimulateurRetraites import SimulateurRetraites\n",
    "import openturns as ot\n",
    "import pylab as pl\n",
    "import scipy as sp\n",
    "import numpy as np"
   ]
  },
  {
   "cell_type": "markdown",
   "metadata": {},
   "source": [
    "## Taux de chômage et nombre de cotisants\n",
    "\n",
    "Soit $\\tau_c$ le taux de chômage. Le taux de chômage considéré dans l'hypothèse centrale du modèle du COR est \n",
    "\n",
    "$$\n",
    "\\tau_c = 0.045,\n",
    "$$\n",
    "\n",
    "c'est à dire 4.5%.\n",
    "\n",
    "Le taux de chômage $\\tau_c$ influence le nombre de cotisants $N_C$, mais le modèle du COR ne permet pas d'exprimer le lien entre $N_C$ et $\\tau_c$. \n",
    "\n",
    "On fait l'hypothèse que le nombre de cotisants est égal à :\n",
    "\n",
    "$$\n",
    "N_C = (1 - \\tau_c) N_T,\n",
    "$$\n",
    "\n",
    "où $N_T$ est le nombre de cotisants lorsqu'il n'y a aucun chômage, i.e. lorsque $\\tau_c = 0$. On pourrait interpréter $N_T$ comme le nombre de travailleurs, c'est-à-dire comme le nombre de personnes participant au marché du travail. Ne sont pas comptés les étudiants sans emploi, les parents restant au foyer pour s'occuper de leurs enfants, et les personnes en âge de travailler qui ont renoncé à chercher un emploi.\n",
    "\n",
    "\n",
    "Supposons que l'on connaisse le nombre de cotisants $N_C$ pour une valeur donnée du taux de chômage $\\tau_c$. On peut alors en déduire le nombre de travailleurs $N_T$ par l'équation : \n",
    "\n",
    "$$\n",
    "N_T = \\frac{N_C}{1 - \\tau_c}.\n",
    "$$\n",
    "\n",
    "\n"
   ]
  },
  {
   "cell_type": "markdown",
   "metadata": {},
   "source": [
    "## Définition des paramètres"
   ]
  },
  {
   "cell_type": "code",
   "execution_count": 2,
   "metadata": {},
   "outputs": [],
   "source": [
    "simulateur = SimulateurRetraites()"
   ]
  },
  {
   "cell_type": "code",
   "execution_count": 3,
   "metadata": {},
   "outputs": [
    {
     "data": {
      "image/png": "[encoded data removed]",
      "text/plain": [
       "<Figure size 432x288 with 1 Axes>"
      ]
     },
     "metadata": {
      "needs_background": "light"
     },
     "output_type": "display_data"
    }
   ],
   "source": [
    "simulateur.graphique(\"NC\")"
   ]
  },
  {
   "cell_type": "code",
   "execution_count": 4,
   "metadata": {},
   "outputs": [],
   "source": [
    "scenario_central = simulateur.scenario_central"
   ]
  },
  {
   "cell_type": "code",
   "execution_count": 5,
   "metadata": {},
   "outputs": [
    {
     "data": {
      "text/plain": [
       "'Hausse des salaires: +1,3%/an, Taux de chômage: 7%'"
      ]
     },
     "execution_count": 5,
     "metadata": {},
     "output_type": "execute_result"
    }
   ],
   "source": [
    "simulateur.scenarios_labels[scenario_central]"
   ]
  },
  {
   "cell_type": "code",
   "execution_count": 6,
   "metadata": {},
   "outputs": [],
   "source": [
    "a = 2020 # Année de calcul"
   ]
  },
  {
   "cell_type": "code",
   "execution_count": 7,
   "metadata": {},
   "outputs": [
    {
     "data": {
      "text/plain": [
       "28439.820040623"
      ]
     },
     "execution_count": 7,
     "metadata": {},
     "output_type": "execute_result"
    }
   ],
   "source": [
    "NC = simulateur.NC[scenario_central][a]\n",
    "NC"
   ]
  },
  {
   "cell_type": "code",
   "execution_count": 8,
   "metadata": {},
   "outputs": [
    {
     "data": {
      "text/plain": [
       "30580.45165658387"
      ]
     },
     "execution_count": 8,
     "metadata": {},
     "output_type": "execute_result"
    }
   ],
   "source": [
    "TauC = 0.07\n",
    "NT = NC / (1 - TauC)\n",
    "NT"
   ]
  },
  {
   "cell_type": "markdown",
   "metadata": {},
   "source": [
    "## Vérification numérique du modèle de chômage en 2070"
   ]
  },
  {
   "cell_type": "code",
   "execution_count": 9,
   "metadata": {},
   "outputs": [
    {
     "name": "stdout",
     "output_type": "stream",
     "text": [
      "Année: 2020\n",
      "1 Hausse des salaires: +1,8%/an, Taux de chômage: 7% , NC= 28439.820040623\n",
      "2 Hausse des salaires: +1,5%/an, Taux de chômage: 7% , NC= 28439.820040623\n",
      "3 Hausse des salaires: +1,3%/an, Taux de chômage: 7% , NC= 28439.820040623\n",
      "4 Hausse des salaires: +1%/an, Taux de chômage: 7% , NC= 28439.820040623\n",
      "5 Hausse des salaires: +1,8%/an, Taux de chômage: 4.5% , NC= 28439.820040623\n",
      "6 Hausse des salaires: +1%/an, Taux de chômage: 10% , NC= 28439.820040623\n"
     ]
    }
   ],
   "source": [
    "print(\"Année:\", a)\n",
    "for s in simulateur.scenarios:\n",
    "    print(s, simulateur.scenarios_labels[s], \", NC=\", simulateur.NC[s][a])"
   ]
  },
  {
   "cell_type": "markdown",
   "metadata": {},
   "source": [
    "## Evolution du nombre de cotisants en fonction du taux de chômage en 2070"
   ]
  },
  {
   "cell_type": "markdown",
   "metadata": {},
   "source": [
    "Dans cette section, nous validons notre modèle de taux de chômage en présentant directement l'évolution du nombre de cotisants en fonction du taux de chômage. Cette validation permet d'observer la linéarité de $N_C$ en fonction de $\\tau_c$ pour une année donnée. On considère ici l'année 2070. "
   ]
  },
  {
   "cell_type": "code",
   "execution_count": 25,
   "metadata": {},
   "outputs": [],
   "source": [
    "a = 2070"
   ]
  },
  {
   "cell_type": "code",
   "execution_count": 26,
   "metadata": {},
   "outputs": [
    {
     "data": {
      "text/plain": [
       "[4.5, 7.0, 10.0]"
      ]
     },
     "execution_count": 26,
     "metadata": {},
     "output_type": "execute_result"
    }
   ],
   "source": [
    "table_tauxChomage = [4.5, 7.0, 10.0]\n",
    "table_tauxChomage"
   ]
  },
  {
   "cell_type": "code",
   "execution_count": 27,
   "metadata": {},
   "outputs": [
    {
     "data": {
      "text/plain": [
       "[31549.246068114, 30732.631943356, 29729.764594685]"
      ]
     },
     "execution_count": 27,
     "metadata": {},
     "output_type": "execute_result"
    }
   ],
   "source": [
    "scenario_central = simulateur.scenario_central\n",
    "scenario_optimiste = simulateur.scenario_optimiste\n",
    "scenario_pessimiste = simulateur.scenario_pessimiste\n",
    "scenarios = [scenario_optimiste, scenario_central, scenario_pessimiste]\n",
    "table_cotisants = [simulateur.NC[s][a] for s in scenarios]\n",
    "table_cotisants"
   ]
  },
  {
   "cell_type": "code",
   "execution_count": 28,
   "metadata": {
    "scrolled": false
   },
   "outputs": [
    {
     "data": {
      "image/png": "[encoded data removed]",
      "text/plain": [
       "<Figure size 432x288 with 1 Axes>"
      ]
     },
     "metadata": {
      "needs_background": "light"
     },
     "output_type": "display_data"
    }
   ],
   "source": [
    "pl.plot(table_tauxChomage, table_cotisants, \"o\");\n",
    "pl.xlabel(\"Taux de chômage (%)\");\n",
    "pl.ylabel(\"Nombre de cotisants\");"
   ]
  },
  {
   "cell_type": "markdown",
   "metadata": {},
   "source": [
    "On observe visuellement que la relation est bien linéaire entre le nombre de cotisants et le taux de chômage. "
   ]
  },
  {
   "cell_type": "code",
   "execution_count": 29,
   "metadata": {},
   "outputs": [
    {
     "data": {
      "text/plain": [
       "30732.631943356"
      ]
     },
     "execution_count": 29,
     "metadata": {},
     "output_type": "execute_result"
    }
   ],
   "source": [
    "NC = simulateur.NC[scenario_central][a]\n",
    "NC"
   ]
  },
  {
   "cell_type": "code",
   "execution_count": 30,
   "metadata": {
    "scrolled": true
   },
   "outputs": [
    {
     "data": {
      "text/plain": [
       "33045.84079930753"
      ]
     },
     "execution_count": 30,
     "metadata": {},
     "output_type": "execute_result"
    }
   ],
   "source": [
    "TauC = 0.07\n",
    "NT = NC / (1 - TauC)\n",
    "NT"
   ]
  },
  {
   "cell_type": "code",
   "execution_count": 31,
   "metadata": {},
   "outputs": [],
   "source": [
    "TauC = np.linspace(4.5, 10.0)\n",
    "NC_simple = [(1 - t / 100.0) * NT for t in TauC]"
   ]
  },
  {
   "cell_type": "code",
   "execution_count": 32,
   "metadata": {
    "scrolled": true
   },
   "outputs": [
    {
     "data": {
      "image/png": "[encoded data removed]",
      "text/plain": [
       "<Figure size 432x288 with 1 Axes>"
      ]
     },
     "metadata": {
      "needs_background": "light"
     },
     "output_type": "display_data"
    }
   ],
   "source": [
    "pl.title(a)\n",
    "pl.plot(table_tauxChomage, table_cotisants, \"o\", label = \"Données COR\");\n",
    "pl.plot(TauC, NC_simple, \"-\", label = \"Modèle\");\n",
    "pl.xlabel(\"Taux de chômage (%)\");\n",
    "pl.ylabel(\"Nombre de cotisants\");\n",
    "pl.legend();"
   ]
  },
  {
   "cell_type": "markdown",
   "metadata": {},
   "source": [
    "On observe que le modèle fonction sur le nombre de travailleurs permet de correctement prédire le nombre de cotisants en fonction du nombre de travailleurs. "
   ]
  },
  {
   "cell_type": "markdown",
   "metadata": {},
   "source": [
    "Comparons le nombre de cotisants prédit par notre modèle et celui prévu par le COR dans le scénario pessimiste."
   ]
  },
  {
   "cell_type": "code",
   "execution_count": 36,
   "metadata": {},
   "outputs": [
    {
     "data": {
      "text/plain": [
       "31558.77796333869"
      ]
     },
     "execution_count": 36,
     "metadata": {},
     "output_type": "execute_result"
    }
   ],
   "source": [
    "TauC = 4.5\n",
    "modele_chomage = (1 - TauC / 100.0) * NT\n",
    "modele_chomage"
   ]
  },
  {
   "cell_type": "code",
   "execution_count": 37,
   "metadata": {},
   "outputs": [
    {
     "data": {
      "text/plain": [
       "31549.246068114"
      ]
     },
     "execution_count": 37,
     "metadata": {},
     "output_type": "execute_result"
    }
   ],
   "source": [
    "modele_COR = simulateur.NC[scenario_optimiste][a]\n",
    "modele_COR"
   ]
  },
  {
   "cell_type": "code",
   "execution_count": 38,
   "metadata": {},
   "outputs": [
    {
     "data": {
      "text/plain": [
       "9.531895224688924"
      ]
     },
     "execution_count": 38,
     "metadata": {},
     "output_type": "execute_result"
    }
   ],
   "source": [
    "modele_chomage - modele_COR"
   ]
  },
  {
   "cell_type": "markdown",
   "metadata": {},
   "source": [
    "On remarque toutefois une différence numérique pour le taux de chômage égaux à 4.5%, inférieur à une dizaine de cotisants. Toutefois, cette différence numérique est négligeable par rapport à l'objectif poursuivi et c'est la raison pour laquelle nous conservons notre modèle pour le moment. "
   ]
  },
  {
   "cell_type": "markdown",
   "metadata": {},
   "source": [
    "## Calcul de la trajectoire du nombre de travailleurs"
   ]
  },
  {
   "cell_type": "code",
   "execution_count": 18,
   "metadata": {},
   "outputs": [
    {
     "name": "stdout",
     "output_type": "stream",
     "text": [
      "Hausse des salaires: +1,8%/an, Taux de chômage: 7%\n",
      "Hausse des salaires: +1,5%/an, Taux de chômage: 7%\n",
      "Hausse des salaires: +1,3%/an, Taux de chômage: 7%\n",
      "Hausse des salaires: +1%/an, Taux de chômage: 7%\n",
      "Hausse des salaires: +1,8%/an, Taux de chômage: 4.5%\n",
      "Hausse des salaires: +1%/an, Taux de chômage: 10%\n"
     ]
    }
   ],
   "source": [
    "NT = dict()\n",
    "for s in simulateur.scenarios:\n",
    "    print(simulateur.scenarios_labels[s])\n",
    "    TauC = simulateur.scenarios_chomage[s]\n",
    "    NT[s] = dict()\n",
    "    for a in simulateur.annees_futures:\n",
    "        if (a <= 2020):\n",
    "            NT[s][a] = simulateur.NC[s][a] # TODO : corriger\n",
    "        else:\n",
    "            NT[s][a] = simulateur.NC[s][a] / (1 - TauC / 100.0)"
   ]
  },
  {
   "cell_type": "code",
   "execution_count": 19,
   "metadata": {},
   "outputs": [
    {
     "data": {
      "image/png": "[encoded data removed]",
      "text/plain": [
       "<Figure size 432x288 with 1 Axes>"
      ]
     },
     "metadata": {
      "needs_background": "light"
     },
     "output_type": "display_data"
    },
    {
     "data": {
      "image/png": "[encoded data removed]",
      "text/plain": [
       "<Figure size 432x144 with 1 Axes>"
      ]
     },
     "metadata": {
      "needs_background": "light"
     },
     "output_type": "display_data"
    }
   ],
   "source": [
    "pl.figure()\n",
    "for s in simulateur.scenarios:\n",
    "    y = [NT[s][a] for a in simulateur.annees_futures]\n",
    "    pl.plot(simulateur.annees_futures, y)\n",
    "pl.ylabel(\"Nombre de travailleurs\")\n",
    "simulateur.dessineLegende()"
   ]
  },
  {
   "cell_type": "markdown",
   "metadata": {},
   "source": [
    "On observe que le modèle est correct pour la période 2035 à 2070, mais faux pour la période 2020 à 2035 : nous devrions obtenir une seule courbe alors qu'on obtient trois courbes séparées.  "
   ]
  },
  {
   "cell_type": "markdown",
   "metadata": {},
   "source": [
    "## Conclusion\n",
    "\n",
    "Nous avons vu que le modèle de prédiction du nombre de cotisants en fonction du taux de chômage pourrait être fondé sur le calcul du nombre de travailleurs dans le scénario central associé à un taux de chômage de 7%. Ce modèle permet de correctement retrouver le nombre de cotisants dans les scénarios optimistes (taux de chômage égal à 4.5%)  et pessimistes (taux de chômage égal à 10%) pour la période de 2035 à 2070. Toutefois, ce modèle ne permet pas de retrouver les données du COR pour la période de 2020 à 2035.  "
   ]
  }
 ],
 "metadata": {
  "kernelspec": {
   "display_name": "Python 3",
   "language": "python",
   "name": "python3"
  },
  "language_info": {
   "codemirror_mode": {
    "name": "ipython",
    "version": 3
   },
   "file_extension": ".py",
   "mimetype": "text/x-python",
   "name": "python",
   "nbconvert_exporter": "python",
   "pygments_lexer": "ipython3",
   "version": "3.7.4"
  }
 },
 "nbformat": 4,
 "nbformat_minor": 2
}
