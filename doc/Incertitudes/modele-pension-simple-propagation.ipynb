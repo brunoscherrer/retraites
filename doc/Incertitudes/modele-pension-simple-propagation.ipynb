{
 "cells": [
  {
   "cell_type": "markdown",
   "metadata": {},
   "source": [
    "# Propagation des incertitudes\n",
    "\n",
    "On considère dans cet exemple un modèle simple dans lequel on probabilise $A_s$, $F$, $\\tau_c$. Le nombre de cotisants $N_C$ et les autres dépenses de retraites $dP$ sont calculés en fonction du taux de chômage $\\tau_c$ par interpolation linéaire entre le scénario optimiste (taux de chômage 4.5%) et le scénario pessimiste (10 %). Cette modélisation est une approximation si le scénario associé à un taux de chômage de 7% n'est pas au centre des deux scénarios extrêmes. "
   ]
  },
  {
   "cell_type": "code",
   "execution_count": 1,
   "metadata": {},
   "outputs": [],
   "source": [
    "from retraites.SimulateurRetraites import SimulateurRetraites\n",
    "import openturns as ot\n",
    "import pylab as pl"
   ]
  },
  {
   "cell_type": "markdown",
   "metadata": {},
   "source": [
    "## Définition des paramètres"
   ]
  },
  {
   "cell_type": "code",
   "execution_count": 2,
   "metadata": {},
   "outputs": [],
   "source": [
    "simulateur = SimulateurRetraites()"
   ]
  },
  {
   "cell_type": "markdown",
   "metadata": {},
   "source": [
    "## Définition du modèle physique"
   ]
  },
  {
   "cell_type": "code",
   "execution_count": 3,
   "metadata": {},
   "outputs": [],
   "source": [
    "def calculePension(X):\n",
    "    \"\"\"\n",
    "    Calcule la pension en fonction du solde S, \n",
    "    des dépenses D et de l'âge de départ en retraite As.\n",
    "    \n",
    "    Paramètres\n",
    "    As : l'âge de départ à la retraite de l'utilisateur\n",
    "    F : facteur d'élasticité (par défaut, F = 0.5)\n",
    "    TauC : taux de chômage (%)\n",
    "    S : le solde financier\n",
    "    D : le montant des dépenses de retraite en part de PIB\n",
    "    B : part des revenus d'activités bruts dans le PIB\n",
    "    G : Effectif moyen d'une génération arrivant aux âges de la retraite\n",
    "    A : âge moyen de départ à la retraite du COR\n",
    "    NR : Nombre de retraités de droit direct (tous régimes confondus)\n",
    "    TauC1 : taux de chômage (%) à la date t1\n",
    "    TauC2 : Idem à la date t2\n",
    "    NC1 : Nombre de cotisants pour le taux TauC1\n",
    "    NC2 : Idem pour le taux TauC1\n",
    "    dP1 : Autres dépenses de retraite rapportées au nombre de retraités \n",
    "          de droit direct en % du revenu d'activités brut moyen\n",
    "          pour le taux TauC1\n",
    "    dP2 : Idem pour le taux TauC1\n",
    "    \n",
    "    Description\n",
    "    Retourne \n",
    "    P : niveau des pensions par rapport aux salaires\n",
    "    \n",
    "    Si l’utilisateur renseigne un âge effectif moyen de départ \n",
    "    à la retraite plus élevé que celui\n",
    "    qui découle de l’évolution spontanée à législation inchangée \n",
    "    (c’est-à-dire si As>A), le nombre de\n",
    "    retraités est donc diminué de G x (As – A) et le nombre \n",
    "    de cotisants augmenté de + E x G x (As – A).\n",
    "    \n",
    "    Le calcul utilise la variable NC :\n",
    "    NC : Nombre de personnes en emploi (ou nombre de cotisants)\n",
    "\n",
    "    \"\"\"\n",
    "    As, F, TauC, S, D, B, G, A, NR, TauC1, TauC2, NC1, NC2, dP1, dP2 = X\n",
    "    # Interpolation linéaire\n",
    "    NC = (TauC2 - TauC) * NC1 / (TauC2 - TauC1) + (TauC - TauC1) * NC2 / (TauC2 - TauC1)\n",
    "    dP = (TauC2 - TauC) * dP1 / (TauC2 - TauC1) + (TauC - TauC1) * dP2 / (TauC2 - TauC1)\n",
    "    # Coeur du modèle\n",
    "    T = (S + D) / B\n",
    "    g = G * (As - A)\n",
    "    K = (NR - g) / (NC + F * g)\n",
    "    P = (T - S / B) / K - dP\n",
    "    # Résultats intermédiaires\n",
    "    verbose = False\n",
    "    if verbose:\n",
    "        print(\"NC =\", NC)\n",
    "        print(\"T =\", T)\n",
    "        print(\"g =\", g)\n",
    "        print(\"K =\", K)\n",
    "        print(\"P =\", P)\n",
    "    Y = [P]\n",
    "    return Y"
   ]
  },
  {
   "cell_type": "code",
   "execution_count": 4,
   "metadata": {},
   "outputs": [
    {
     "data": {
      "text/plain": [
       "('Hausse des salaires: +1,8%/an, Taux de chômage: 7%',\n",
       " 'Hausse des salaires: +1,8%/an, Taux de chômage: 4.5%',\n",
       " 'Hausse des salaires: +1%/an, Taux de chômage: 10%')"
      ]
     },
     "execution_count": 4,
     "metadata": {},
     "output_type": "execute_result"
    }
   ],
   "source": [
    "# Paramètres\n",
    "scenario_central = simulateur.scenario_central\n",
    "scenario_optimiste = simulateur.scenario_optimiste\n",
    "scenario_pessimiste = simulateur.scenario_pessimiste\n",
    "simulateur.scenarios_labels[scenario_central], \\\n",
    "simulateur.scenarios_labels[scenario_optimiste], \\\n",
    "simulateur.scenarios_labels[scenario_pessimiste]"
   ]
  },
  {
   "cell_type": "code",
   "execution_count": 5,
   "metadata": {},
   "outputs": [],
   "source": [
    "annee = 2050"
   ]
  },
  {
   "cell_type": "code",
   "execution_count": 6,
   "metadata": {},
   "outputs": [
    {
     "data": {
      "text/plain": [
       "[0.440359392, 838.249333333, 64.041707916, 21952.798460147]"
      ]
     },
     "execution_count": 6,
     "metadata": {},
     "output_type": "execute_result"
    }
   ],
   "source": [
    "B = simulateur.B[scenario_central][annee]\n",
    "G = simulateur.G[scenario_central][annee]\n",
    "A = simulateur.A[scenario_central][annee]\n",
    "NR = simulateur.NR[scenario_central][annee]\n",
    "[B, G, A, NR]"
   ]
  },
  {
   "cell_type": "code",
   "execution_count": 7,
   "metadata": {},
   "outputs": [
    {
     "data": {
      "text/plain": [
       "[4.5, 10.0, 30894.071244312, 29112.374459975, 0.026529773, -0.000741665]"
      ]
     },
     "execution_count": 7,
     "metadata": {},
     "output_type": "execute_result"
    }
   ],
   "source": [
    "TauC1 = simulateur.scenarios_chomage[scenario_optimiste]\n",
    "TauC2 = simulateur.scenarios_chomage[scenario_pessimiste]\n",
    "NC1 = simulateur.NC[scenario_optimiste][annee]\n",
    "NC2 = simulateur.NC[scenario_pessimiste][annee]\n",
    "dP1 = simulateur.dP[scenario_optimiste][annee]\n",
    "dP2 = simulateur.dP[scenario_pessimiste][annee]\n",
    "[TauC1, TauC2, NC1, NC2, dP1, dP2]"
   ]
  },
  {
   "cell_type": "code",
   "execution_count": 8,
   "metadata": {},
   "outputs": [],
   "source": [
    "modelePension = ot.PythonFunction(15, 1, calculePension)\n",
    "modelePension.setInputDescription([\"As\", \"F\", \"TauC\", \"S\", \"D\", \"B\", \"G\", \"A\", \"NR\", \\\n",
    "                                   \"TauC1\", \"TauC2\", \"NC1\", \"NC2\", \"dP1\", \"dP2\"])\n",
    "modelePension.setOutputDescription([\"P\"])"
   ]
  },
  {
   "cell_type": "code",
   "execution_count": 9,
   "metadata": {},
   "outputs": [
    {
     "data": {
      "text/html": [
       "<p>[63,0.5,7,0,0.14,0.440359,838.249,64.0417,21952.8,4.5,10,30894.1,29112.4,0.0265298,-0.000741665]#15</p>"
      ],
      "text/plain": [
       "class=Point name=Unnamed dimension=15 values=[63,0.5,7,0,0.14,0.440359,838.249,64.0417,21952.8,4.5,10,30894.1,29112.4,0.0265298,-0.000741665]"
      ]
     },
     "execution_count": 9,
     "metadata": {},
     "output_type": "execute_result"
    }
   ],
   "source": [
    "S = 0.0\n",
    "D = 0.14\n",
    "As = 63.0\n",
    "F = 0.5\n",
    "TauC = 7.00\n",
    "X = ot.Point([As, F, TauC, S, D, B, G, A, NR, TauC1, TauC2, NC1, NC2, dP1, dP2])\n",
    "X"
   ]
  },
  {
   "cell_type": "code",
   "execution_count": 10,
   "metadata": {},
   "outputs": [
    {
     "data": {
      "text/html": [
       "<p>[0.3988]</p>"
      ],
      "text/plain": [
       "class=Point name=Unnamed dimension=1 values=[0.3988]"
      ]
     },
     "execution_count": 10,
     "metadata": {},
     "output_type": "execute_result"
    }
   ],
   "source": [
    "modelePension(X)"
   ]
  },
  {
   "cell_type": "markdown",
   "metadata": {},
   "source": [
    "La valeur de retour attendue est [0.547295] en 2020."
   ]
  },
  {
   "cell_type": "markdown",
   "metadata": {},
   "source": [
    "Nous souhaitons probabiliser les variables suivantes :\n",
    "* $A_s$ : l'âge moyen de départ à la retraite défini par l'utilisateur\n",
    "* $F$ : facteur d'élasticité (par défaut, $F = 0.5$)\n",
    "* $\\tau_c$ : le taux de chômage\n",
    "\n",
    "Le solde financier $S_s$ est fixé à zéro et le niveau de dépense $D_s$ à 14% du PIB. Analysons dans ces conditions la sensibilité du niveau de pension $P_s$  à l'âge moyen de départ à la retraite $A_s$, au coefficient d'élasticité $F$ et au taux de chômage $\\tau_c$."
   ]
  },
  {
   "cell_type": "code",
   "execution_count": 11,
   "metadata": {},
   "outputs": [
    {
     "data": {
      "text/html": [
       "<p>ParametricEvaluation(class=PythonEvaluation name=OpenTURNSPythonFunction, parameters positions=[3,4,5,6,7,8,9,10,11,12,13,14]#12, parameters=[S : 0, D : 0.14, B : 0.440359, G : 838.249, A : 64.0417, NR : 21952.8, TauC1 : 4.5, TauC2 : 10, NC1 : 30894.1, NC2 : 29112.4, dP1 : 0.0265298, dP2 : -0.000741665], input positions=[0,1,2])</p>"
      ],
      "text/plain": [
       "class=FunctionImplementation name=Unnamed description=[As,F,TauC,P] evaluationImplementation=class=ParametricEvaluation function=class=Function name=Unnamed implementation=class=FunctionImplementation name=Unnamed description=[As,F,TauC,S,D,B,G,A,NR,TauC1,TauC2,NC1,NC2,dP1,dP2,P] evaluationImplementation=class=PythonEvaluation name=OpenTURNSPythonFunction description=[As,F,TauC,S,D,B,G,A,NR,TauC1,TauC2,NC1,NC2,dP1,dP2,P] parameter=class=Point name=Unnamed dimension=0 values=[] gradientImplementation=class=CenteredFiniteDifferenceGradient name=Unnamed epsilon=class=Point name=Unnamed dimension=15 values=[1e-05,1e-05,1e-05,1e-05,1e-05,1e-05,1e-05,1e-05,1e-05,1e-05,1e-05,1e-05,1e-05,1e-05,1e-05] evaluation=class=PythonEvaluation name=OpenTURNSPythonFunction description=[x0,x1,x2,x3,x4,x5,x6,x7,x8,x9,x10,x11,x12,x13,x14,y0] parameter=class=Point name=Unnamed dimension=0 values=[] hessianImplementation=class=CenteredFiniteDifferenceHessian name=Unnamed epsilon=class=Point name=Unnamed dimension=15 values=[0.0001,0.0001,0.0001,0.0001,0.0001,0.0001,0.0001,0.0001,0.0001,0.0001,0.0001,0.0001,0.0001,0.0001,0.0001] evaluation=class=PythonEvaluation name=OpenTURNSPythonFunction description=[x0,x1,x2,x3,x4,x5,x6,x7,x8,x9,x10,x11,x12,x13,x14,y0] parameter=class=Point name=Unnamed dimension=0 values=[] parameters positions=[3,4,5,6,7,8,9,10,11,12,13,14] parameters=class=PointWithDescription name=Unnamed dimension=12 description=[S,D,B,G,A,NR,TauC1,TauC2,NC1,NC2,dP1,dP2] values=[0,0.14,0.440359,838.249,64.0417,21952.8,4.5,10,30894.1,29112.4,0.0265298,-0.000741665] input positions=[0,1,2] gradientImplementation=class=ParametricGradient evaluation=class=ParametricEvaluation function=class=Function name=Unnamed implementation=class=FunctionImplementation name=Unnamed description=[As,F,TauC,S,D,B,G,A,NR,TauC1,TauC2,NC1,NC2,dP1,dP2,P] evaluationImplementation=class=PythonEvaluation name=OpenTURNSPythonFunction description=[As,F,TauC,S,D,B,G,A,NR,TauC1,TauC2,NC1,NC2,dP1,dP2,P] parameter=class=Point name=Unnamed dimension=0 values=[] gradientImplementation=class=CenteredFiniteDifferenceGradient name=Unnamed epsilon=class=Point name=Unnamed dimension=15 values=[1e-05,1e-05,1e-05,1e-05,1e-05,1e-05,1e-05,1e-05,1e-05,1e-05,1e-05,1e-05,1e-05,1e-05,1e-05] evaluation=class=PythonEvaluation name=OpenTURNSPythonFunction description=[x0,x1,x2,x3,x4,x5,x6,x7,x8,x9,x10,x11,x12,x13,x14,y0] parameter=class=Point name=Unnamed dimension=0 values=[] hessianImplementation=class=CenteredFiniteDifferenceHessian name=Unnamed epsilon=class=Point name=Unnamed dimension=15 values=[0.0001,0.0001,0.0001,0.0001,0.0001,0.0001,0.0001,0.0001,0.0001,0.0001,0.0001,0.0001,0.0001,0.0001,0.0001] evaluation=class=PythonEvaluation name=OpenTURNSPythonFunction description=[x0,x1,x2,x3,x4,x5,x6,x7,x8,x9,x10,x11,x12,x13,x14,y0] parameter=class=Point name=Unnamed dimension=0 values=[] parameters positions=[3,4,5,6,7,8,9,10,11,12,13,14] parameters=class=PointWithDescription name=Unnamed dimension=12 description=[S,D,B,G,A,NR,TauC1,TauC2,NC1,NC2,dP1,dP2] values=[0,0.14,0.440359,838.249,64.0417,21952.8,4.5,10,30894.1,29112.4,0.0265298,-0.000741665] input positions=[0,1,2] hessianImplementation=class=ParametricHessian evaluation=class=ParametricEvaluation function=class=Function name=Unnamed implementation=class=FunctionImplementation name=Unnamed description=[As,F,TauC,S,D,B,G,A,NR,TauC1,TauC2,NC1,NC2,dP1,dP2,P] evaluationImplementation=class=PythonEvaluation name=OpenTURNSPythonFunction description=[As,F,TauC,S,D,B,G,A,NR,TauC1,TauC2,NC1,NC2,dP1,dP2,P] parameter=class=Point name=Unnamed dimension=0 values=[] gradientImplementation=class=CenteredFiniteDifferenceGradient name=Unnamed epsilon=class=Point name=Unnamed dimension=15 values=[1e-05,1e-05,1e-05,1e-05,1e-05,1e-05,1e-05,1e-05,1e-05,1e-05,1e-05,1e-05,1e-05,1e-05,1e-05] evaluation=class=PythonEvaluation name=OpenTURNSPythonFunction description=[x0,x1,x2,x3,x4,x5,x6,x7,x8,x9,x10,x11,x12,x13,x14,y0] parameter=class=Point name=Unnamed dimension=0 values=[] hessianImplementation=class=CenteredFiniteDifferenceHessian name=Unnamed epsilon=class=Point name=Unnamed dimension=15 values=[0.0001,0.0001,0.0001,0.0001,0.0001,0.0001,0.0001,0.0001,0.0001,0.0001,0.0001,0.0001,0.0001,0.0001,0.0001] evaluation=class=PythonEvaluation name=OpenTURNSPythonFunction description=[x0,x1,x2,x3,x4,x5,x6,x7,x8,x9,x10,x11,x12,x13,x14,y0] parameter=class=Point name=Unnamed dimension=0 values=[] parameters positions=[3,4,5,6,7,8,9,10,11,12,13,14] parameters=class=PointWithDescription name=Unnamed dimension=12 description=[S,D,B,G,A,NR,TauC1,TauC2,NC1,NC2,dP1,dP2] values=[0,0.14,0.440359,838.249,64.0417,21952.8,4.5,10,30894.1,29112.4,0.0265298,-0.000741665] input positions=[0,1,2]"
      ]
     },
     "execution_count": 11,
     "metadata": {},
     "output_type": "execute_result"
    }
   ],
   "source": [
    "indices = range(3, 15)\n",
    "referencePoint = [S, D, B, G, A, NR, TauC1, TauC2, NC1, NC2, dP1, dP2]\n",
    "modelePensionReduit = ot.ParametricFunction(modelePension, indices, referencePoint)\n",
    "modelePensionReduit"
   ]
  },
  {
   "cell_type": "code",
   "execution_count": 12,
   "metadata": {},
   "outputs": [
    {
     "data": {
      "text/html": [
       "<p>[63,0.5,7]</p>"
      ],
      "text/plain": [
       "class=Point name=Unnamed dimension=3 values=[63,0.5,7]"
      ]
     },
     "execution_count": 12,
     "metadata": {},
     "output_type": "execute_result"
    }
   ],
   "source": [
    "X = ot.Point([As, F, TauC])\n",
    "X"
   ]
  },
  {
   "cell_type": "code",
   "execution_count": 13,
   "metadata": {},
   "outputs": [
    {
     "data": {
      "text/html": [
       "<p>[0.3988]</p>"
      ],
      "text/plain": [
       "class=Point name=Unnamed dimension=1 values=[0.3988]"
      ]
     },
     "execution_count": 13,
     "metadata": {},
     "output_type": "execute_result"
    }
   ],
   "source": [
    "modelePensionReduit(X)"
   ]
  },
  {
   "cell_type": "markdown",
   "metadata": {},
   "source": [
    "## Définition du modèle probabiliste"
   ]
  },
  {
   "cell_type": "code",
   "execution_count": 14,
   "metadata": {},
   "outputs": [],
   "source": [
    "As = ot.Uniform(62.0, 66.0)"
   ]
  },
  {
   "cell_type": "code",
   "execution_count": 15,
   "metadata": {},
   "outputs": [],
   "source": [
    "F = ot.Uniform(0.25, 0.75)"
   ]
  },
  {
   "cell_type": "code",
   "execution_count": 16,
   "metadata": {},
   "outputs": [],
   "source": [
    "TauC = ot.Uniform(4.5, 10.0)"
   ]
  },
  {
   "cell_type": "code",
   "execution_count": 17,
   "metadata": {},
   "outputs": [],
   "source": [
    "distribution = ot.ComposedDistribution([As, F, TauC])"
   ]
  },
  {
   "cell_type": "markdown",
   "metadata": {},
   "source": [
    "## Analyse en tendance centrale"
   ]
  },
  {
   "cell_type": "code",
   "execution_count": 18,
   "metadata": {},
   "outputs": [],
   "source": [
    "inputRandomVector = ot.RandomVector(distribution)\n",
    "outputRandomVector = ot.CompositeRandomVector(modelePensionReduit, inputRandomVector)"
   ]
  },
  {
   "cell_type": "code",
   "execution_count": 19,
   "metadata": {},
   "outputs": [],
   "source": [
    "sampleSize = 10000\n",
    "sampleP = outputRandomVector.getSample(sampleSize)"
   ]
  },
  {
   "cell_type": "code",
   "execution_count": 20,
   "metadata": {},
   "outputs": [],
   "source": [
    "kernel = ot.KernelSmoothing()\n",
    "fittedDist = kernel.build(sampleP)"
   ]
  },
  {
   "cell_type": "code",
   "execution_count": 21,
   "metadata": {},
   "outputs": [
    {
     "data": {
      "image/png": "[encoded data removed]",
      "text/plain": [
       "class=Graph name=pdf as a function of P implementation=class=GraphImplementation name=pdf as a function of P title=2050 xTitle=P yTitle=PDF axes=ON grid=ON legendposition=topright legendFontSize=1 drawables=[class=Drawable name=Unnamed implementation=class=Curve name=Unnamed derived from class=DrawableImplementation name=Unnamed legend=P PDF data=class=Sample name=Unnamed implementation=class=SampleImplementation name=Unnamed size=129 dimension=2 data=[[0.307828,0],[0.309623,0],[0.311417,0],[0.313212,0],[0.315006,0],[0.316801,0],[0.318595,0],[0.32039,0],[0.322184,0],[0.323979,0],[0.325773,0],[0.327568,0],[0.329362,0],[0.331157,0],[0.332951,0],[0.334746,0],[0.33654,0],[0.338335,0],[0.340129,0],[0.341924,0],[0.343718,1.22507e-14],[0.345513,4.14172e-13],[0.347307,1.13178e-11],[0.349102,2.50364e-10],[0.350896,4.49165e-09],[0.352691,6.54959e-08],[0.354485,7.78237e-07],[0.35628,7.55784e-06],[0.358074,6.01949e-05],[0.359869,0.000394713],[0.361663,0.00214019],[0.363458,0.00964239],[0.365252,0.0362979],[0.367047,0.114905],[0.368841,0.308269],[0.370636,0.707654],[0.37243,1.40666],[0.374225,2.45626],[0.376019,3.82964],[0.377814,5.42204],[0.379608,7.08114],[0.381403,8.64544],[0.383197,9.979],[0.384992,10.9994],[0.386786,11.688],[0.388581,12.076],[0.390375,12.2245],[0.39217,12.212],[0.393964,12.1193],[0.395759,12.0069],[0.397554,11.8984],[0.399348,11.7888],[0.401143,11.6681],[0.402937,11.5388],[0.404732,11.4145],[0.406526,11.3048],[0.408321,11.2098],[0.410115,11.1315],[0.41191,11.0852],[0.413704,11.0915],[0.415499,11.1545],[0.417293,11.2449],[0.419088,11.3083],[0.420882,11.299],[0.422677,11.2087],[0.424471,11.0627],[0.426266,10.8966],[0.42806,10.7392],[0.429855,10.608],[0.431649,10.5084],[0.433444,10.436],[0.435238,10.3889],[0.437033,10.3726],[0.438827,10.3829],[0.440622,10.3845],[0.442416,10.3321],[0.444211,10.2227],[0.446005,10.1123],[0.4478,10.0691],[0.449594,10.1139],[0.451389,10.2086],[0.453183,10.291],[0.454978,10.3116],[0.456772,10.2424],[0.458567,10.0638],[0.460361,9.7465],[0.462156,9.24463],[0.46395,8.51162],[0.465745,7.53179],[0.467539,6.34399],[0.469334,5.03889],[0.471128,3.73489],[0.472923,2.55019],[0.474717,1.57901],[0.476512,0.871266],[0.478306,0.421099],[0.480101,0.175546],[0.481895,0.0623177],[0.48369,0.0186482],[0.485484,0.00466683],[0.487279,0.000970576],[0.489073,0.000166885],[0.490868,2.36203e-05],[0.492662,2.74139e-06],[0.494457,2.60025e-07],[0.496251,2.00967e-08],[0.498046,1.26234e-09],[0.49984,6.42972e-11],[0.501635,2.65057e-12],[0.503429,8.82907e-14],[0.505224,0],[0.507018,0],[0.508813,0],[0.510607,0],[0.512402,0],[0.514196,0],[0.515991,0],[0.517786,0],[0.51958,0],[0.521375,0],[0.523169,0],[0.524964,0],[0.526758,0],[0.528553,0],[0.530347,0],[0.532142,0],[0.533936,0],[0.535731,0],[0.537525,0]] color=red fillStyle=solid lineStyle=solid pointStyle=none lineWidth=2]"
      ]
     },
     "execution_count": 21,
     "metadata": {},
     "output_type": "execute_result"
    }
   ],
   "source": [
    "graph = fittedDist.drawPDF()\n",
    "graph.setTitle(\"%d\" % (annee))\n",
    "graph"
   ]
  },
  {
   "cell_type": "code",
   "execution_count": null,
   "metadata": {},
   "outputs": [],
   "source": []
  }
 ],
 "metadata": {
  "kernelspec": {
   "display_name": "Python 3",
   "language": "python",
   "name": "python3"
  },
  "language_info": {
   "codemirror_mode": {
    "name": "ipython",
    "version": 3
   },
   "file_extension": ".py",
   "mimetype": "text/x-python",
   "name": "python",
   "nbconvert_exporter": "python",
   "pygments_lexer": "ipython3",
   "version": "3.7.4"
  }
 },
 "nbformat": 4,
 "nbformat_minor": 2
}
